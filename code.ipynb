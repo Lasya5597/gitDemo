{
 "cells": [
  {
   "cell_type": "code",
   "execution_count": null,
   "metadata": {},
   "outputs": [],
   "source": [
    "#Alice Code\n",
    "def greet(name):\n",
    "    return f\"Hello, {name}! Welcome to Git\"\n",
    "# ask for user input\n",
    "user_name = input (\"Enter your name: \")\n",
    "print(greet(user_name))\n"
   ]
  }
 ],
 "metadata": {
  "language_info": {
   "name": "python"
  }
 },
 "nbformat": 4,
 "nbformat_minor": 2
}
